{
 "cells": [
  {
   "cell_type": "markdown",
   "id": "1f654cbf",
   "metadata": {},
   "source": [
    "# Import Libraries : "
   ]
  },
  {
   "cell_type": "code",
   "execution_count": null,
   "id": "bd41a6c8",
   "metadata": {},
   "outputs": [],
   "source": [
    "from datetime import datetime\n",
    "import pandas as pd \n",
    "import numpy as np\n",
    "from meteostat import Daily, Point, Stations\n",
    "from geopy.geocoders import Nominatim\n",
    "from tqdm import tqdm"
   ]
  },
  {
   "cell_type": "markdown",
   "id": "c7f94369",
   "metadata": {},
   "source": [
    "# Download Data : "
   ]
  },
  {
   "cell_type": "code",
   "execution_count": null,
   "id": "63ac8271",
   "metadata": {},
   "outputs": [],
   "source": [
    "def data_downloader():\n",
    "    cities = [\n",
    "        \"Cairo\", \"Riyadh\", \"Phoenix\", \"Las Vegas\", \"Lima\", \"Ulaanbaatar\", \"Moscow\", \"Chicago\", \"Toronto\", \"Warsaw\",\n",
    "        \"Berlin\", \"London\", \"Paris\", \"Sydney\", \"Buenos Aires\", \"Tokyo\", \"Shanghai\", \"Mumbai\", \"Bangkok\", \"Jakarta\",\n",
    "        \"Singapore\", \"Nairobi\", \"Addis Ababa\", \"Cape Town\", \"Athens\", \"Rome\", \"Los Angeles\", \"San Francisco\", \"Honolulu\", \"Reykjavik\",\n",
    "        \"Nuuk\", \"Anchorage\", \"Helsinki\", \"Oslo\", \"Stockholm\", \"Tallinn\", \"Tehran\", \"Islamabad\", \"Kabul\", \"Baghdad\",\n",
    "        \"Santiago\", \"Quito\", \"Bogota\", \"Caracas\", \"Panama City\", \"Mexico City\", \"Guatemala City\", \"San Jose\", \"Hanoi\", \"Seoul\",\n",
    "        \"Beijing\", \"Hong Kong\", \"Kuala Lumpur\", \"Manila\", \"Perth\", \"Brisbane\", \"Melbourne\", \"Wellington\", \"Auckland\", \"Vancouver\",\n",
    "        \"Montreal\", \"Halifax\", \"Winnipeg\", \"Fairbanks\", \"Yellowknife\", \"Barrow (Utqiaġvik)\", \"Tromsø\", \"Novosibirsk\", \"Vladivostok\", \"Irkutsk\",\n",
    "        \"Bishkek\", \"Astana\", \"Tashkent\", \"Yerevan\", \"Baku\", \"Amman\", \"Beirut\", \"Tunis\", \"Algiers\", \"Dakar\",\n",
    "        \"Accra\", \"Lagos\", \"Johannesburg\", \"Harare\", \"Gaborone\", \"Windhoek\", \"Lusaka\", \"New York\", \"Miami\", \"Denver\",\n",
    "        \"Boston\", \"Dallas\", \"Seattle\", \"Istanbul\", \"Barcelona\", \"Kuala Terengganu\", \"Mombasa\", \"Port Moresby\", \"Nouméa\", \"Honiara\"\n",
    "    ]\n",
    "\n",
    "    geolocator = Nominatim(user_agent=\"AI-Weather-Predictor\")\n",
    "    start_date = datetime(2010, 1, 1)\n",
    "    end_date = datetime(2024, 12, 31)\n",
    "\n",
    "    all_data = []\n",
    "\n",
    "    for city in tqdm(cities, desc=\"Downloading Weather Data\"):\n",
    "        try:\n",
    "\n",
    "            location = geolocator.geocode(city, timeout=10)\n",
    "            if not location:\n",
    "                print(f\"❌ Could not geocode {city}\")\n",
    "                continue\n",
    "\n",
    "            lat, lon = location.latitude, location.longitude\n",
    "\n",
    "\n",
    "            stations = Stations().nearby(lat, lon).fetch(10)\n",
    "\n",
    "\n",
    "            valid_stations = stations[\n",
    "                (stations['daily_start'] <= pd.to_datetime(start_date)) &\n",
    "                (stations['daily_end'] >= pd.to_datetime(end_date))\n",
    "            ]\n",
    "\n",
    "            if valid_stations.empty:\n",
    "                print(f\"⚠️ No valid station with full data range for {city}\")\n",
    "                continue\n",
    "\n",
    "\n",
    "            station_id = valid_stations.index[0]\n",
    "            daily_data = Daily(station_id, start=start_date, end=end_date).fetch()\n",
    "\n",
    "\n",
    "            daily_data[\"city\"] = city\n",
    "            all_data.append(daily_data)\n",
    "\n",
    "        except Exception as e:\n",
    "            print(f\"❗ Error for {city}: {e}\")\n",
    "            continue\n",
    "\n",
    "\n",
    "    if all_data:\n",
    "        return pd.concat(all_data).reset_index()\n",
    "    else:\n",
    "        return pd.DataFrame()\n"
   ]
  },
  {
   "cell_type": "code",
   "execution_count": null,
   "id": "8a306b92",
   "metadata": {},
   "outputs": [],
   "source": [
    "raw_data = data_downloader()"
   ]
  },
  {
   "cell_type": "markdown",
   "id": "aef9074a",
   "metadata": {},
   "source": [
    "# Save Data : "
   ]
  },
  {
   "cell_type": "code",
   "execution_count": null,
   "id": "b6cd4bc3",
   "metadata": {},
   "outputs": [],
   "source": [
    "raw_data.to_csv('/home/sina.tvk.1997/AI-weather-predictor/data/raw_data.csv',index=False)"
   ]
  }
 ],
 "metadata": {
  "kernelspec": {
   "display_name": "AI-weather-predictor-MLBGr5D5",
   "language": "python",
   "name": "python3"
  },
  "language_info": {
   "codemirror_mode": {
    "name": "ipython",
    "version": 3
   },
   "file_extension": ".py",
   "mimetype": "text/x-python",
   "name": "python",
   "nbconvert_exporter": "python",
   "pygments_lexer": "ipython3",
   "version": "3.12.3"
  }
 },
 "nbformat": 4,
 "nbformat_minor": 5
}
