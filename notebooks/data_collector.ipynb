{
 "cells": [
  {
   "cell_type": "code",
   "execution_count": 21,
   "id": "4bffe80f",
   "metadata": {},
   "outputs": [],
   "source": [
    "from meteostat import Daily, Point, Stations\n",
    "from geopy.geocoders import Nominatim\n",
    "from datetime import datetime, timedelta\n",
    "import pandas as pd"
   ]
  },
  {
   "cell_type": "code",
   "execution_count": null,
   "id": "fa7c1b6e",
   "metadata": {},
   "outputs": [],
   "source": [
    "def data_downloader(city):\n",
    "\n",
    "    end_date = datetime.now().date()\n",
    "    start_date = end_date - timedelta(days=13)\n",
    "\n",
    "\n",
    "    start_date = pd.to_datetime(start_date)\n",
    "    end_date = pd.to_datetime(end_date)\n",
    "\n",
    "    try:\n",
    "\n",
    "        geolocator = Nominatim(user_agent=\"AI-Weather-Predictor\")\n",
    "        location = geolocator.geocode(city, timeout=10)\n",
    "        \n",
    "        if not location:\n",
    "            print(f\"❌ Could not geocode {city}\")\n",
    "            return pd.DataFrame()\n",
    "        \n",
    "        lat, lon = location.latitude, location.longitude\n",
    "\n",
    "\n",
    "        stations = Stations().nearby(lat, lon).fetch(25)\n",
    "        if stations.empty:\n",
    "            print(f\"⚠️ No stations found near {city}\")\n",
    "            return pd.DataFrame()\n",
    "\n",
    "\n",
    "        stations['coverage_days'] = (stations['daily_end'] - stations['daily_start']).dt.days\n",
    "        stations = stations.sort_values(by='coverage_days', ascending=False)\n",
    "\n",
    "\n",
    "        for station_id in stations.index:\n",
    "            try:\n",
    "                daily_data = Daily(station_id, start=start_date, end=end_date).fetch()\n",
    "                if not daily_data.empty:\n",
    "                    daily_data[\"city\"] = city\n",
    "                    return daily_data.reset_index()\n",
    "            except Exception as inner_e:\n",
    "                print(f\"⚠️ Failed to fetch data from station {station_id}: {inner_e}\")\n",
    "\n",
    "        print(f\"⚠️ None of the nearby stations have usable data for {city} in the last 14 days\")\n",
    "        return pd.DataFrame()\n",
    "\n",
    "    except Exception as e:\n",
    "        print(f\"❗ Error for {city}: {e}\")\n",
    "        return pd.DataFrame()\n"
   ]
  }
 ],
 "metadata": {
  "kernelspec": {
   "display_name": "AI-weather-predictor-MLBGr5D5",
   "language": "python",
   "name": "python3"
  },
  "language_info": {
   "codemirror_mode": {
    "name": "ipython",
    "version": 3
   },
   "file_extension": ".py",
   "mimetype": "text/x-python",
   "name": "python",
   "nbconvert_exporter": "python",
   "pygments_lexer": "ipython3",
   "version": "3.12.3"
  }
 },
 "nbformat": 4,
 "nbformat_minor": 5
}
