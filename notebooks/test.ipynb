{
 "cells": [
  {
   "cell_type": "code",
   "execution_count": null,
   "id": "afe8cf61",
   "metadata": {},
   "outputs": [],
   "source": [
    "import sys\n",
    "import os\n",
    "sys.path.append(os.path.abspath(\"/home/sina.tvk.1997/AI-weather-predictor/scripts\"))\n",
    "\n",
    "import numpy as np\n",
    "import pandas as pd\n",
    "from tensorflow.keras.models import load_model\n",
    "from datetime import datetime, timedelta\n",
    "from data_collector import data_downloader\n",
    "from preprocessing import main as preprocess_pipeline\n",
    "\n",
    "from openai import OpenAI\n",
    "from dotenv import load_dotenv"
   ]
  },
  {
   "cell_type": "code",
   "execution_count": null,
   "id": "037dba7a",
   "metadata": {},
   "outputs": [],
   "source": [
    "load_dotenv(\"/home/sina.tvk.1997/AI-weather-predictor/authentication/keys.env\")\n",
    "key = os.getenv(\"OPENAI_API_KEY\")\n",
    "openai_client = OpenAI(api_key=key)"
   ]
  },
  {
   "cell_type": "code",
   "execution_count": null,
   "id": "0e831ae5",
   "metadata": {},
   "outputs": [],
   "source": [
    "def ML_model_prediction(city) : \n",
    "\n",
    "    model_path = \"/home/sina.tvk.1997/AI-weather-predictor/models/weather_model.keras\"\n",
    "\n",
    "    # --- Step 1: Download recent data ---\n",
    "    print(f\"📥 Downloading recent data for {city}...\")\n",
    "    raw_df = data_downloader(city)\n",
    "\n",
    "    if raw_df.empty or len(raw_df) < 37:\n",
    "        raise ValueError(f\"❌ Not enough data for prediction (need at least 37 days). Got {len(raw_df)} days.\")\n",
    "\n",
    "    # --- Step 2: Preprocess full data ---\n",
    "    print(\"🔧 Running preprocessing...\")\n",
    "    X_all, _ = preprocess_pipeline(raw_df)\n",
    "\n",
    "    # --- Step 3: Select last 30 days for prediction ---\n",
    "    X_input = X_all[-1:]  # shape: (1, 30, features)\n",
    "    X_input = np.array(X_input).astype(np.float32)\n",
    "\n",
    "    # --- Step 4: Load model ---\n",
    "    print(\"📦 Loading trained model...\")\n",
    "    model = load_model(model_path)\n",
    "\n",
    "    # --- Step 5: Predict next 7 days ---\n",
    "    print(\"🔮 Predicting next 7 days...\")\n",
    "    y_pred = model.predict(X_input)[0]  # shape: (7, 6)\n",
    "\n",
    "    # --- Step 6: Build output DataFrame ---\n",
    "    targets = ['tavg', 'tmin', 'tmax', 'wspd', 'prcp', 'snow']\n",
    "    forecast_df = pd.DataFrame(y_pred, columns=targets)\n",
    "\n",
    "    # --- Postprocessing ---\n",
    "    # 1. Round temperature columns\n",
    "    forecast_df[['tavg', 'tmin', 'tmax']] = forecast_df[['tavg', 'tmin', 'tmax']].round(0).astype(int)\n",
    "\n",
    "    # 2. Clip prcp/snow to [0, 1] before calculating probabilities\n",
    "    forecast_df['prcp_raw'] = forecast_df['prcp'].clip(0, 1)\n",
    "    forecast_df['snow_raw'] = forecast_df['snow'].clip(0, 1)\n",
    "\n",
    "    # 3. Rain + Snow: Yes/No + Probability\n",
    "    forecast_df['Rain?'] = np.where(forecast_df['prcp_raw'] >= 0.5, 'Yes', 'No')\n",
    "    forecast_df['Rain_Prob (%)'] = (forecast_df['prcp_raw'] * 100).round(0).astype(int)\n",
    "\n",
    "    forecast_df['Snow?'] = np.where(forecast_df['snow_raw'] >= 0.5, 'Yes', 'No')\n",
    "    forecast_df['Snow_Prob (%)'] = (forecast_df['snow_raw'] * 100).round(0).astype(int)\n",
    "\n",
    "    # 4. Drop unused columns\n",
    "    forecast_df.drop(columns=['wspd', 'prcp', 'snow', 'prcp_raw', 'snow_raw'], inplace=True)\n",
    "\n",
    "    # 5. Rename for presentation\n",
    "    forecast_df.rename(columns={\n",
    "        'tavg': 'Avg Temp (°C)',\n",
    "        'tmin': 'Min Temp (°C)',\n",
    "        'tmax': 'Max Temp (°C)'\n",
    "    }, inplace=True)\n",
    "\n",
    "    # --- Step 7: Add forecast dates ---\n",
    "    forecast_df.index = pd.date_range(start=pd.Timestamp.today() + pd.Timedelta(days=1), periods=7)\n",
    "    forecast_df.index.name = \"Date\"\n",
    "\n",
    "    return forecast_df"
   ]
  },
  {
   "cell_type": "code",
   "execution_count": null,
   "id": "8e887b85",
   "metadata": {},
   "outputs": [],
   "source": [
    "def build_prompt(forecast_df,city):\n",
    "    \n",
    "    prompt = f\"Provide a comprehensive weather summary and insights for the upcoming 7 days in {city}. Use the forecast below to describe temperature trends, rain/snow chances, and any interesting patterns or warnings.\\n\\n\"\n",
    "\n",
    "    prompt += \"7-Day Forecast:\\n\"\n",
    "    for idx, row in forecast_df.iterrows():\n",
    "        date_str = idx.strftime(\"%A, %B %d\")\n",
    "        prompt += (\n",
    "            f\"{date_str}:\\n\"\n",
    "            f\" - Avg Temp: {row['Avg Temp (°C)']}°C\\n\"\n",
    "            f\" - Min Temp: {row['Min Temp (°C)']}°C\\n\"\n",
    "            f\" - Max Temp: {row['Max Temp (°C)']}°C\\n\"\n",
    "            f\" - Rain: {row['Rain?']} (Probability: {row['Rain_Prob (%)']}%)\\n\"\n",
    "            f\" - Snow: {row['Snow?']} (Probability: {row['Snow_Prob (%)']}%)\\n\"\n",
    "            \"\\n\"\n",
    "        )\n",
    "\n",
    "    prompt += (\n",
    "        \"Please analyze this forecast and generate a natural language weather summary for the city. \"\n",
    "        \"Include practical suggestions (e.g., umbrella, outdoor plans), any warnings for severe weather, \"\n",
    "        \"and note any interesting trends (cooling, warming, dry spell, etc.).\"\n",
    "    )\n",
    "\n",
    "    return prompt\n"
   ]
  },
  {
   "cell_type": "code",
   "execution_count": null,
   "id": "e878135b",
   "metadata": {},
   "outputs": [],
   "source": [
    "def llm(prompt, openai_client):\n",
    "    response = openai_client.chat.completions.create(\n",
    "        model='gpt-4o-mini',\n",
    "        messages=[{\"role\": \"user\", \"content\": prompt}]\n",
    "    )\n",
    "    return response.choices[0].message.content\n"
   ]
  },
  {
   "cell_type": "code",
   "execution_count": null,
   "id": "03127b60",
   "metadata": {},
   "outputs": [],
   "source": [
    "def main(city):\n",
    "\n",
    "    forecast_df = ML_model_prediction(city)\n",
    "    \n",
    "    prompt = build_prompt(forecast_df, city)\n",
    "\n",
    "    summary = llm(prompt, openai_client)\n",
    "\n",
    "    return summary"
   ]
  },
  {
   "cell_type": "code",
   "execution_count": null,
   "id": "ce28ada3",
   "metadata": {},
   "outputs": [],
   "source": [
    "result = main(\"padua\")"
   ]
  },
  {
   "cell_type": "code",
   "execution_count": null,
   "id": "a1c5af1d",
   "metadata": {},
   "outputs": [],
   "source": [
    "print(result)"
   ]
  },
  {
   "cell_type": "code",
   "execution_count": null,
   "id": "0cffcbc7",
   "metadata": {},
   "outputs": [],
   "source": []
  }
 ],
 "metadata": {
  "kernelspec": {
   "display_name": "AI-weather-predictor-MLBGr5D5",
   "language": "python",
   "name": "python3"
  },
  "language_info": {
   "codemirror_mode": {
    "name": "ipython",
    "version": 3
   },
   "file_extension": ".py",
   "mimetype": "text/x-python",
   "name": "python",
   "nbconvert_exporter": "python",
   "pygments_lexer": "ipython3",
   "version": "3.12.3"
  }
 },
 "nbformat": 4,
 "nbformat_minor": 5
}
